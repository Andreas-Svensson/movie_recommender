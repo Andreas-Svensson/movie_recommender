{
 "cells": [
  {
   "cell_type": "code",
   "execution_count": 1,
   "metadata": {},
   "outputs": [],
   "source": [
    "import pandas as pd\n",
    "from scipy.sparse import csr_matrix\n",
    "from sklearn.neighbors import NearestNeighbors\n",
    "from fuzzywuzzy import process\n",
    "from IPython.display import display "
   ]
  },
  {
   "attachments": {},
   "cell_type": "markdown",
   "metadata": {},
   "source": [
    "# Import Data"
   ]
  },
  {
   "cell_type": "code",
   "execution_count": 2,
   "metadata": {},
   "outputs": [
    {
     "name": "stdout",
     "output_type": "stream",
     "text": [
      "Movies dataframe: (58,098 rows)\n"
     ]
    },
    {
     "data": {
      "text/html": [
       "<div>\n",
       "<style scoped>\n",
       "    .dataframe tbody tr th:only-of-type {\n",
       "        vertical-align: middle;\n",
       "    }\n",
       "\n",
       "    .dataframe tbody tr th {\n",
       "        vertical-align: top;\n",
       "    }\n",
       "\n",
       "    .dataframe thead th {\n",
       "        text-align: right;\n",
       "    }\n",
       "</style>\n",
       "<table border=\"1\" class=\"dataframe\">\n",
       "  <thead>\n",
       "    <tr style=\"text-align: right;\">\n",
       "      <th></th>\n",
       "      <th>movieId</th>\n",
       "      <th>title</th>\n",
       "    </tr>\n",
       "  </thead>\n",
       "  <tbody>\n",
       "    <tr>\n",
       "      <th>0</th>\n",
       "      <td>1</td>\n",
       "      <td>Toy Story (1995)</td>\n",
       "    </tr>\n",
       "    <tr>\n",
       "      <th>1</th>\n",
       "      <td>2</td>\n",
       "      <td>Jumanji (1995)</td>\n",
       "    </tr>\n",
       "    <tr>\n",
       "      <th>2</th>\n",
       "      <td>3</td>\n",
       "      <td>Grumpier Old Men (1995)</td>\n",
       "    </tr>\n",
       "    <tr>\n",
       "      <th>3</th>\n",
       "      <td>4</td>\n",
       "      <td>Waiting to Exhale (1995)</td>\n",
       "    </tr>\n",
       "    <tr>\n",
       "      <th>4</th>\n",
       "      <td>5</td>\n",
       "      <td>Father of the Bride Part II (1995)</td>\n",
       "    </tr>\n",
       "  </tbody>\n",
       "</table>\n",
       "</div>"
      ],
      "text/plain": [
       "   movieId                               title\n",
       "0        1                    Toy Story (1995)\n",
       "1        2                      Jumanji (1995)\n",
       "2        3             Grumpier Old Men (1995)\n",
       "3        4            Waiting to Exhale (1995)\n",
       "4        5  Father of the Bride Part II (1995)"
      ]
     },
     "metadata": {},
     "output_type": "display_data"
    },
    {
     "name": "stdout",
     "output_type": "stream",
     "text": [
      "Ratings dataframe: (27,753,444 rows)\n"
     ]
    },
    {
     "data": {
      "text/html": [
       "<div>\n",
       "<style scoped>\n",
       "    .dataframe tbody tr th:only-of-type {\n",
       "        vertical-align: middle;\n",
       "    }\n",
       "\n",
       "    .dataframe tbody tr th {\n",
       "        vertical-align: top;\n",
       "    }\n",
       "\n",
       "    .dataframe thead th {\n",
       "        text-align: right;\n",
       "    }\n",
       "</style>\n",
       "<table border=\"1\" class=\"dataframe\">\n",
       "  <thead>\n",
       "    <tr style=\"text-align: right;\">\n",
       "      <th></th>\n",
       "      <th>userId</th>\n",
       "      <th>movieId</th>\n",
       "      <th>rating</th>\n",
       "    </tr>\n",
       "  </thead>\n",
       "  <tbody>\n",
       "    <tr>\n",
       "      <th>0</th>\n",
       "      <td>1</td>\n",
       "      <td>307</td>\n",
       "      <td>3.5</td>\n",
       "    </tr>\n",
       "    <tr>\n",
       "      <th>1</th>\n",
       "      <td>1</td>\n",
       "      <td>481</td>\n",
       "      <td>3.5</td>\n",
       "    </tr>\n",
       "    <tr>\n",
       "      <th>2</th>\n",
       "      <td>1</td>\n",
       "      <td>1091</td>\n",
       "      <td>1.5</td>\n",
       "    </tr>\n",
       "    <tr>\n",
       "      <th>3</th>\n",
       "      <td>1</td>\n",
       "      <td>1257</td>\n",
       "      <td>4.5</td>\n",
       "    </tr>\n",
       "    <tr>\n",
       "      <th>4</th>\n",
       "      <td>1</td>\n",
       "      <td>1449</td>\n",
       "      <td>4.5</td>\n",
       "    </tr>\n",
       "  </tbody>\n",
       "</table>\n",
       "</div>"
      ],
      "text/plain": [
       "   userId  movieId  rating\n",
       "0       1      307     3.5\n",
       "1       1      481     3.5\n",
       "2       1     1091     1.5\n",
       "3       1     1257     4.5\n",
       "4       1     1449     4.5"
      ]
     },
     "metadata": {},
     "output_type": "display_data"
    }
   ],
   "source": [
    "df_movies = pd.read_csv(\"assets/movies.csv\", usecols = [\"movieId\", \"title\"])\n",
    "df_ratings = pd.read_csv(\"assets/ratings.csv\", usecols = [\"userId\", \"movieId\", \"rating\"])\n",
    "\n",
    "print(f\"Movies dataframe: ({len(df_movies):,} rows)\")\n",
    "display(df_movies.head())\n",
    "\n",
    "print(f\"Ratings dataframe: ({len(df_ratings):,} rows)\")\n",
    "display(df_ratings.head())"
   ]
  },
  {
   "attachments": {},
   "cell_type": "markdown",
   "metadata": {},
   "source": [
    "# Create Sparse Matrix"
   ]
  },
  {
   "cell_type": "code",
   "execution_count": 3,
   "metadata": {},
   "outputs": [
    {
     "data": {
      "text/plain": [
       "<58098x283228 sparse matrix of type '<class 'numpy.float64'>'\n",
       "\twith 27753444 stored elements in Compressed Sparse Row format>"
      ]
     },
     "execution_count": 3,
     "metadata": {},
     "output_type": "execute_result"
    }
   ],
   "source": [
    "# in part credit to Kevy / ChatGPT\n",
    "\n",
    "# but fixed a logical error of index mismatch by including categories from df_movies\n",
    "movies_cat = pd.Categorical(df_ratings['movieId'], categories=df_movies['movieId'])\n",
    "users_cat = pd.Categorical(df_ratings['userId'])\n",
    "\n",
    "# create sparse matrix\n",
    "mat_movies_users = csr_matrix((df_ratings['rating'], (movies_cat.codes, users_cat.codes)))\n",
    "\n",
    "mat_movies_users"
   ]
  },
  {
   "attachments": {},
   "cell_type": "markdown",
   "metadata": {},
   "source": [
    "# Set up Model"
   ]
  },
  {
   "cell_type": "code",
   "execution_count": 4,
   "metadata": {},
   "outputs": [
    {
     "data": {
      "text/html": [
       "<style>#sk-container-id-1 {color: black;background-color: white;}#sk-container-id-1 pre{padding: 0;}#sk-container-id-1 div.sk-toggleable {background-color: white;}#sk-container-id-1 label.sk-toggleable__label {cursor: pointer;display: block;width: 100%;margin-bottom: 0;padding: 0.3em;box-sizing: border-box;text-align: center;}#sk-container-id-1 label.sk-toggleable__label-arrow:before {content: \"▸\";float: left;margin-right: 0.25em;color: #696969;}#sk-container-id-1 label.sk-toggleable__label-arrow:hover:before {color: black;}#sk-container-id-1 div.sk-estimator:hover label.sk-toggleable__label-arrow:before {color: black;}#sk-container-id-1 div.sk-toggleable__content {max-height: 0;max-width: 0;overflow: hidden;text-align: left;background-color: #f0f8ff;}#sk-container-id-1 div.sk-toggleable__content pre {margin: 0.2em;color: black;border-radius: 0.25em;background-color: #f0f8ff;}#sk-container-id-1 input.sk-toggleable__control:checked~div.sk-toggleable__content {max-height: 200px;max-width: 100%;overflow: auto;}#sk-container-id-1 input.sk-toggleable__control:checked~label.sk-toggleable__label-arrow:before {content: \"▾\";}#sk-container-id-1 div.sk-estimator input.sk-toggleable__control:checked~label.sk-toggleable__label {background-color: #d4ebff;}#sk-container-id-1 div.sk-label input.sk-toggleable__control:checked~label.sk-toggleable__label {background-color: #d4ebff;}#sk-container-id-1 input.sk-hidden--visually {border: 0;clip: rect(1px 1px 1px 1px);clip: rect(1px, 1px, 1px, 1px);height: 1px;margin: -1px;overflow: hidden;padding: 0;position: absolute;width: 1px;}#sk-container-id-1 div.sk-estimator {font-family: monospace;background-color: #f0f8ff;border: 1px dotted black;border-radius: 0.25em;box-sizing: border-box;margin-bottom: 0.5em;}#sk-container-id-1 div.sk-estimator:hover {background-color: #d4ebff;}#sk-container-id-1 div.sk-parallel-item::after {content: \"\";width: 100%;border-bottom: 1px solid gray;flex-grow: 1;}#sk-container-id-1 div.sk-label:hover label.sk-toggleable__label {background-color: #d4ebff;}#sk-container-id-1 div.sk-serial::before {content: \"\";position: absolute;border-left: 1px solid gray;box-sizing: border-box;top: 0;bottom: 0;left: 50%;z-index: 0;}#sk-container-id-1 div.sk-serial {display: flex;flex-direction: column;align-items: center;background-color: white;padding-right: 0.2em;padding-left: 0.2em;position: relative;}#sk-container-id-1 div.sk-item {position: relative;z-index: 1;}#sk-container-id-1 div.sk-parallel {display: flex;align-items: stretch;justify-content: center;background-color: white;position: relative;}#sk-container-id-1 div.sk-item::before, #sk-container-id-1 div.sk-parallel-item::before {content: \"\";position: absolute;border-left: 1px solid gray;box-sizing: border-box;top: 0;bottom: 0;left: 50%;z-index: -1;}#sk-container-id-1 div.sk-parallel-item {display: flex;flex-direction: column;z-index: 1;position: relative;background-color: white;}#sk-container-id-1 div.sk-parallel-item:first-child::after {align-self: flex-end;width: 50%;}#sk-container-id-1 div.sk-parallel-item:last-child::after {align-self: flex-start;width: 50%;}#sk-container-id-1 div.sk-parallel-item:only-child::after {width: 0;}#sk-container-id-1 div.sk-dashed-wrapped {border: 1px dashed gray;margin: 0 0.4em 0.5em 0.4em;box-sizing: border-box;padding-bottom: 0.4em;background-color: white;}#sk-container-id-1 div.sk-label label {font-family: monospace;font-weight: bold;display: inline-block;line-height: 1.2em;}#sk-container-id-1 div.sk-label-container {text-align: center;}#sk-container-id-1 div.sk-container {/* jupyter's `normalize.less` sets `[hidden] { display: none; }` but bootstrap.min.css set `[hidden] { display: none !important; }` so we also need the `!important` here to be able to override the default hidden behavior on the sphinx rendered scikit-learn.org. See: https://github.com/scikit-learn/scikit-learn/issues/21755 */display: inline-block !important;position: relative;}#sk-container-id-1 div.sk-text-repr-fallback {display: none;}</style><div id=\"sk-container-id-1\" class=\"sk-top-container\"><div class=\"sk-text-repr-fallback\"><pre>NearestNeighbors(algorithm=&#x27;brute&#x27;, metric=&#x27;cosine&#x27;)</pre><b>In a Jupyter environment, please rerun this cell to show the HTML representation or trust the notebook. <br />On GitHub, the HTML representation is unable to render, please try loading this page with nbviewer.org.</b></div><div class=\"sk-container\" hidden><div class=\"sk-item\"><div class=\"sk-estimator sk-toggleable\"><input class=\"sk-toggleable__control sk-hidden--visually\" id=\"sk-estimator-id-1\" type=\"checkbox\" checked><label for=\"sk-estimator-id-1\" class=\"sk-toggleable__label sk-toggleable__label-arrow\">NearestNeighbors</label><div class=\"sk-toggleable__content\"><pre>NearestNeighbors(algorithm=&#x27;brute&#x27;, metric=&#x27;cosine&#x27;)</pre></div></div></div></div></div>"
      ],
      "text/plain": [
       "NearestNeighbors(algorithm='brute', metric='cosine')"
      ]
     },
     "execution_count": 4,
     "metadata": {},
     "output_type": "execute_result"
    }
   ],
   "source": [
    "# cosine simularity as distance metric, and brute force to go through all vectors\n",
    "model_KNN = NearestNeighbors(metric = \"cosine\", algorithm = \"brute\")\n",
    "model_KNN.fit(mat_movies_users) # fitting to sparse matrix"
   ]
  },
  {
   "attachments": {},
   "cell_type": "markdown",
   "metadata": {},
   "source": [
    "# Test function for index mismatch search"
   ]
  },
  {
   "cell_type": "code",
   "execution_count": 5,
   "metadata": {},
   "outputs": [],
   "source": [
    "def test(indices):\n",
    "    \"\"\"\n",
    "    test that indices align properly, insert any iterable of multiple indices to check\n",
    "    \"\"\"\n",
    "    for idx in indices:\n",
    "        id = df_movies.loc[idx][\"movieId\"]\n",
    "        sum_dataframe = df_ratings[df_ratings[\"movieId\"] == id][\"rating\"].sum()\n",
    "        sum_matrix = mat_movies_users[idx].sum()\n",
    "\n",
    "        errors = 0\n",
    "\n",
    "        if sum_dataframe != sum_matrix:\n",
    "            print(f\"Comparing index {idx}, result: {sum_dataframe == sum_matrix} ({sum_dataframe, sum_matrix})\")\n",
    "            errors += 1\n",
    "        \n",
    "    if errors == 0:\n",
    "        print(\"All indices tested with no mismatches\")\n",
    "    print(f\"{errors} errors found\")"
   ]
  },
  {
   "attachments": {},
   "cell_type": "markdown",
   "metadata": {},
   "source": [
    "Loop through indices to see if there are any mismatches"
   ]
  },
  {
   "cell_type": "code",
   "execution_count": 6,
   "metadata": {},
   "outputs": [
    {
     "name": "stdout",
     "output_type": "stream",
     "text": [
      "All indices tested with no mismatches\n",
      "0 errors found\n"
     ]
    }
   ],
   "source": [
    "indices = [i for i in range(9700, 9742)]\n",
    "test(indices)"
   ]
  },
  {
   "attachments": {},
   "cell_type": "markdown",
   "metadata": {},
   "source": [
    "# Recommendation Function"
   ]
  },
  {
   "cell_type": "code",
   "execution_count": 7,
   "metadata": {},
   "outputs": [],
   "source": [
    "\n",
    "def recommender(movie_name, model = model_KNN, data = mat_movies_users, n_recommendations = 9):\n",
    "    idx = process.extractOne(movie_name, df_movies[\"title\"])[2]\n",
    "\n",
    "    distances, indices = model.kneighbors(data[idx], n_neighbors = n_recommendations + 1)\n",
    "\n",
    "    indices = indices.flatten()[1:]\n",
    "    \n",
    "    # print results:\n",
    "    print(f\"Movie Selected: \\\"{df_movies.loc[idx]['title']}\\\"\\n\") # selected movie title\n",
    "    for a, i in enumerate(indices): # looping through indices:\n",
    "        print(f\"{a + 1}. {df_movies.loc[i]['title']}\") # print each title in order from closest to farthest"
   ]
  },
  {
   "attachments": {},
   "cell_type": "markdown",
   "metadata": {},
   "source": [
    "# Enter a movie to get recommendations\n",
    "\n",
    "### Trying a few different ones below as example:"
   ]
  },
  {
   "cell_type": "code",
   "execution_count": 8,
   "metadata": {},
   "outputs": [
    {
     "name": "stdout",
     "output_type": "stream",
     "text": [
      "Movie Selected: \"Pinocchio (1940)\"\n",
      "\n",
      "1. Snow White and the Seven Dwarfs (1937)\n",
      "2. Dumbo (1941)\n",
      "3. Cinderella (1950)\n",
      "4. Bambi (1942)\n",
      "5. Alice in Wonderland (1951)\n",
      "6. Fantasia (1940)\n",
      "7. Peter Pan (1953)\n",
      "8. Mary Poppins (1964)\n",
      "9. Sleeping Beauty (1959)\n"
     ]
    }
   ],
   "source": [
    "recommender(\"pinocchio\")"
   ]
  },
  {
   "cell_type": "code",
   "execution_count": 9,
   "metadata": {},
   "outputs": [
    {
     "name": "stdout",
     "output_type": "stream",
     "text": [
      "Movie Selected: \"Star Wars: Episode IV - A New Hope (1977)\"\n",
      "\n",
      "1. Star Wars: Episode V - The Empire Strikes Back (1980)\n",
      "2. Star Wars: Episode VI - Return of the Jedi (1983)\n",
      "3. Raiders of the Lost Ark (Indiana Jones and the Raiders of the Lost Ark) (1981)\n",
      "4. Matrix, The (1999)\n",
      "5. Indiana Jones and the Last Crusade (1989)\n",
      "6. Back to the Future (1985)\n",
      "7. Terminator, The (1984)\n",
      "8. Alien (1979)\n",
      "9. Toy Story (1995)\n"
     ]
    }
   ],
   "source": [
    "recommender(\"star wars\")"
   ]
  },
  {
   "cell_type": "code",
   "execution_count": 10,
   "metadata": {},
   "outputs": [
    {
     "name": "stdout",
     "output_type": "stream",
     "text": [
      "Movie Selected: \"Iron Man 3 (2013)\"\n",
      "\n",
      "1. Iron Man 2 (2010)\n",
      "2. Captain America: The Winter Soldier (2014)\n",
      "3. Captain America: The First Avenger (2011)\n",
      "4. Avengers: Age of Ultron (2015)\n",
      "5. Avengers, The (2012)\n",
      "6. Thor: The Dark World (2013)\n",
      "7. Thor (2011)\n",
      "8. X-Men: Days of Future Past (2014)\n",
      "9. X-Men: First Class (2011)\n"
     ]
    }
   ],
   "source": [
    "recommender(\"iron man 3\")"
   ]
  },
  {
   "cell_type": "code",
   "execution_count": 11,
   "metadata": {},
   "outputs": [
    {
     "name": "stdout",
     "output_type": "stream",
     "text": [
      "Movie Selected: \"Shrek 2 (2004)\"\n",
      "\n",
      "1. Shrek (2001)\n",
      "2. Finding Nemo (2003)\n",
      "3. Incredibles, The (2004)\n",
      "4. Ice Age (2002)\n",
      "5. Monsters, Inc. (2001)\n",
      "6. Spider-Man 2 (2004)\n",
      "7. Pirates of the Caribbean: The Curse of the Black Pearl (2003)\n",
      "8. Spider-Man (2002)\n",
      "9. Harry Potter and the Prisoner of Azkaban (2004)\n"
     ]
    }
   ],
   "source": [
    "recommender(\"shrek 2\")"
   ]
  },
  {
   "cell_type": "code",
   "execution_count": 12,
   "metadata": {},
   "outputs": [
    {
     "name": "stdout",
     "output_type": "stream",
     "text": [
      "Movie Selected: \"Amityville 1992: It's About Time (1992)\"\n",
      "\n",
      "1. Amityville: A New Generation (1993)\n",
      "2. Amityville: Dollhouse (1996)\n",
      "3. Amityville Curse, The (1990)\n",
      "4. Amityville 3-D (1983)\n",
      "5. Amityville II: The Possession (1982)\n",
      "6. Children of the Corn II: The Final Sacrifice (1993)\n",
      "7. Children of the Corn III (1994)\n",
      "8. Body Parts (1991)\n",
      "9. Gate II: Trespassers, The (1990)\n"
     ]
    }
   ],
   "source": [
    "recommender(\"amityville\")"
   ]
  },
  {
   "cell_type": "code",
   "execution_count": 14,
   "metadata": {},
   "outputs": [
    {
     "name": "stdout",
     "output_type": "stream",
     "text": [
      "Movie Selected: \"Bill Burr: I'm Sorry You Feel That Way (2014)\"\n",
      "\n",
      "1. Bill Burr: You People Are All the Same (2012)\n",
      "2. Bill Burr: Why Do I Do This? (2008)\n",
      "3. Bill Burr: Let It Go (2010)\n",
      "4. Bill Burr: Walk Your Way Out (2017)\n",
      "5. Jim Jefferies: BARE (2014)\n",
      "6. Louis C.K.: Oh My God (2013)\n",
      "7. Jim Jefferies: Freedumb (2016)\n",
      "8. Louis C.K.: One Night Stand (2005)\n",
      "9. Louis C.K.: Chewed Up (2008)\n"
     ]
    }
   ],
   "source": [
    "recommender(\"bill burr\")"
   ]
  },
  {
   "cell_type": "code",
   "execution_count": 15,
   "metadata": {},
   "outputs": [
    {
     "name": "stdout",
     "output_type": "stream",
     "text": [
      "Movie Selected: \"Sharknado (2013)\"\n",
      "\n",
      "1. Sharknado 2: The Second One (2014)\n",
      "2. Sharknado 3: Oh Hell No! (2015)\n",
      "3. Sharknado 4: The 4th Awakens (2016)\n",
      "4. Lavalantula (2015)\n",
      "5. Zombeavers (2014)\n",
      "6. 2-Headed Shark Attack (2012)\n",
      "7. Piranhaconda (2012)\n",
      "8. Evil Dead (2013)\n",
      "9. Piranha (Piranha 3D) (2010)\n"
     ]
    }
   ],
   "source": [
    "recommender(\"sharknado\")"
   ]
  },
  {
   "cell_type": "code",
   "execution_count": null,
   "metadata": {},
   "outputs": [],
   "source": []
  }
 ],
 "metadata": {
  "kernelspec": {
   "display_name": "movie_recommender-a-L8eSvj",
   "language": "python",
   "name": "python3"
  },
  "language_info": {
   "codemirror_mode": {
    "name": "ipython",
    "version": 3
   },
   "file_extension": ".py",
   "mimetype": "text/x-python",
   "name": "python",
   "nbconvert_exporter": "python",
   "pygments_lexer": "ipython3",
   "version": "3.9.13"
  },
  "orig_nbformat": 4
 },
 "nbformat": 4,
 "nbformat_minor": 2
}
