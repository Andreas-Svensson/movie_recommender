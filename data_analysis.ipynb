{
 "cells": [
  {
   "attachments": {},
   "cell_type": "markdown",
   "metadata": {},
   "source": [
    "# Exploratory Data Analysis"
   ]
  },
  {
   "cell_type": "code",
   "execution_count": 20,
   "metadata": {},
   "outputs": [
    {
     "data": {
      "text/html": [
       "<div>\n",
       "<style scoped>\n",
       "    .dataframe tbody tr th:only-of-type {\n",
       "        vertical-align: middle;\n",
       "    }\n",
       "\n",
       "    .dataframe tbody tr th {\n",
       "        vertical-align: top;\n",
       "    }\n",
       "\n",
       "    .dataframe thead th {\n",
       "        text-align: right;\n",
       "    }\n",
       "</style>\n",
       "<table border=\"1\" class=\"dataframe\">\n",
       "  <thead>\n",
       "    <tr style=\"text-align: right;\">\n",
       "      <th></th>\n",
       "      <th>movieId</th>\n",
       "      <th>title</th>\n",
       "      <th>genres</th>\n",
       "    </tr>\n",
       "  </thead>\n",
       "  <tbody>\n",
       "    <tr>\n",
       "      <th>0</th>\n",
       "      <td>1</td>\n",
       "      <td>Toy Story (1995)</td>\n",
       "      <td>Adventure|Animation|Children|Comedy|Fantasy</td>\n",
       "    </tr>\n",
       "    <tr>\n",
       "      <th>1</th>\n",
       "      <td>2</td>\n",
       "      <td>Jumanji (1995)</td>\n",
       "      <td>Adventure|Children|Fantasy</td>\n",
       "    </tr>\n",
       "    <tr>\n",
       "      <th>2</th>\n",
       "      <td>3</td>\n",
       "      <td>Grumpier Old Men (1995)</td>\n",
       "      <td>Comedy|Romance</td>\n",
       "    </tr>\n",
       "    <tr>\n",
       "      <th>3</th>\n",
       "      <td>4</td>\n",
       "      <td>Waiting to Exhale (1995)</td>\n",
       "      <td>Comedy|Drama|Romance</td>\n",
       "    </tr>\n",
       "    <tr>\n",
       "      <th>4</th>\n",
       "      <td>5</td>\n",
       "      <td>Father of the Bride Part II (1995)</td>\n",
       "      <td>Comedy</td>\n",
       "    </tr>\n",
       "  </tbody>\n",
       "</table>\n",
       "</div>"
      ],
      "text/plain": [
       "   movieId                               title  \\\n",
       "0        1                    Toy Story (1995)   \n",
       "1        2                      Jumanji (1995)   \n",
       "2        3             Grumpier Old Men (1995)   \n",
       "3        4            Waiting to Exhale (1995)   \n",
       "4        5  Father of the Bride Part II (1995)   \n",
       "\n",
       "                                        genres  \n",
       "0  Adventure|Animation|Children|Comedy|Fantasy  \n",
       "1                   Adventure|Children|Fantasy  \n",
       "2                               Comedy|Romance  \n",
       "3                         Comedy|Drama|Romance  \n",
       "4                                       Comedy  "
      ]
     },
     "execution_count": 20,
     "metadata": {},
     "output_type": "execute_result"
    }
   ],
   "source": [
    "import pandas as pd\n",
    "import matplotlib.pyplot as plt\n",
    "import seaborn as sns\n",
    "\n",
    "df_movies = pd.read_csv(\"assets/movies.csv\")\n",
    "\n",
    "df_movies.head()"
   ]
  },
  {
   "cell_type": "code",
   "execution_count": 21,
   "metadata": {},
   "outputs": [
    {
     "data": {
      "text/html": [
       "<div>\n",
       "<style scoped>\n",
       "    .dataframe tbody tr th:only-of-type {\n",
       "        vertical-align: middle;\n",
       "    }\n",
       "\n",
       "    .dataframe tbody tr th {\n",
       "        vertical-align: top;\n",
       "    }\n",
       "\n",
       "    .dataframe thead th {\n",
       "        text-align: right;\n",
       "    }\n",
       "</style>\n",
       "<table border=\"1\" class=\"dataframe\">\n",
       "  <thead>\n",
       "    <tr style=\"text-align: right;\">\n",
       "      <th></th>\n",
       "      <th>userId</th>\n",
       "      <th>movieId</th>\n",
       "      <th>rating</th>\n",
       "      <th>timestamp</th>\n",
       "    </tr>\n",
       "  </thead>\n",
       "  <tbody>\n",
       "    <tr>\n",
       "      <th>0</th>\n",
       "      <td>1</td>\n",
       "      <td>307</td>\n",
       "      <td>3.5</td>\n",
       "      <td>1256677221</td>\n",
       "    </tr>\n",
       "    <tr>\n",
       "      <th>1</th>\n",
       "      <td>1</td>\n",
       "      <td>481</td>\n",
       "      <td>3.5</td>\n",
       "      <td>1256677456</td>\n",
       "    </tr>\n",
       "    <tr>\n",
       "      <th>2</th>\n",
       "      <td>1</td>\n",
       "      <td>1091</td>\n",
       "      <td>1.5</td>\n",
       "      <td>1256677471</td>\n",
       "    </tr>\n",
       "    <tr>\n",
       "      <th>3</th>\n",
       "      <td>1</td>\n",
       "      <td>1257</td>\n",
       "      <td>4.5</td>\n",
       "      <td>1256677460</td>\n",
       "    </tr>\n",
       "    <tr>\n",
       "      <th>4</th>\n",
       "      <td>1</td>\n",
       "      <td>1449</td>\n",
       "      <td>4.5</td>\n",
       "      <td>1256677264</td>\n",
       "    </tr>\n",
       "  </tbody>\n",
       "</table>\n",
       "</div>"
      ],
      "text/plain": [
       "   userId  movieId  rating   timestamp\n",
       "0       1      307     3.5  1256677221\n",
       "1       1      481     3.5  1256677456\n",
       "2       1     1091     1.5  1256677471\n",
       "3       1     1257     4.5  1256677460\n",
       "4       1     1449     4.5  1256677264"
      ]
     },
     "execution_count": 21,
     "metadata": {},
     "output_type": "execute_result"
    }
   ],
   "source": [
    "df_ratings = pd.read_csv(\"assets/ratings.csv\")\n",
    "\n",
    "df_ratings.head()"
   ]
  },
  {
   "cell_type": "code",
   "execution_count": 22,
   "metadata": {},
   "outputs": [
    {
     "data": {
      "text/plain": [
       "(58098, 27753444)"
      ]
     },
     "execution_count": 22,
     "metadata": {},
     "output_type": "execute_result"
    }
   ],
   "source": [
    "len(df_movies), len(df_ratings)"
   ]
  },
  {
   "cell_type": "code",
   "execution_count": 23,
   "metadata": {},
   "outputs": [
    {
     "data": {
      "text/html": [
       "<div>\n",
       "<style scoped>\n",
       "    .dataframe tbody tr th:only-of-type {\n",
       "        vertical-align: middle;\n",
       "    }\n",
       "\n",
       "    .dataframe tbody tr th {\n",
       "        vertical-align: top;\n",
       "    }\n",
       "\n",
       "    .dataframe thead th {\n",
       "        text-align: right;\n",
       "    }\n",
       "</style>\n",
       "<table border=\"1\" class=\"dataframe\">\n",
       "  <thead>\n",
       "    <tr style=\"text-align: right;\">\n",
       "      <th></th>\n",
       "      <th>userId</th>\n",
       "      <th>movieId</th>\n",
       "      <th>rating</th>\n",
       "      <th>timestamp</th>\n",
       "      <th>title</th>\n",
       "      <th>genres</th>\n",
       "    </tr>\n",
       "  </thead>\n",
       "  <tbody>\n",
       "    <tr>\n",
       "      <th>0</th>\n",
       "      <td>1</td>\n",
       "      <td>307</td>\n",
       "      <td>3.5</td>\n",
       "      <td>1256677221</td>\n",
       "      <td>Three Colors: Blue (Trois couleurs: Bleu) (1993)</td>\n",
       "      <td>Drama</td>\n",
       "    </tr>\n",
       "    <tr>\n",
       "      <th>1</th>\n",
       "      <td>6</td>\n",
       "      <td>307</td>\n",
       "      <td>4.0</td>\n",
       "      <td>832059248</td>\n",
       "      <td>Three Colors: Blue (Trois couleurs: Bleu) (1993)</td>\n",
       "      <td>Drama</td>\n",
       "    </tr>\n",
       "    <tr>\n",
       "      <th>2</th>\n",
       "      <td>56</td>\n",
       "      <td>307</td>\n",
       "      <td>4.0</td>\n",
       "      <td>1383625728</td>\n",
       "      <td>Three Colors: Blue (Trois couleurs: Bleu) (1993)</td>\n",
       "      <td>Drama</td>\n",
       "    </tr>\n",
       "    <tr>\n",
       "      <th>3</th>\n",
       "      <td>71</td>\n",
       "      <td>307</td>\n",
       "      <td>5.0</td>\n",
       "      <td>1257795414</td>\n",
       "      <td>Three Colors: Blue (Trois couleurs: Bleu) (1993)</td>\n",
       "      <td>Drama</td>\n",
       "    </tr>\n",
       "    <tr>\n",
       "      <th>4</th>\n",
       "      <td>84</td>\n",
       "      <td>307</td>\n",
       "      <td>3.0</td>\n",
       "      <td>999055519</td>\n",
       "      <td>Three Colors: Blue (Trois couleurs: Bleu) (1993)</td>\n",
       "      <td>Drama</td>\n",
       "    </tr>\n",
       "    <tr>\n",
       "      <th>...</th>\n",
       "      <td>...</td>\n",
       "      <td>...</td>\n",
       "      <td>...</td>\n",
       "      <td>...</td>\n",
       "      <td>...</td>\n",
       "      <td>...</td>\n",
       "    </tr>\n",
       "    <tr>\n",
       "      <th>27753439</th>\n",
       "      <td>282403</td>\n",
       "      <td>167894</td>\n",
       "      <td>1.0</td>\n",
       "      <td>1524243885</td>\n",
       "      <td>Stranglehold (1994)</td>\n",
       "      <td>Action</td>\n",
       "    </tr>\n",
       "    <tr>\n",
       "      <th>27753440</th>\n",
       "      <td>282732</td>\n",
       "      <td>161572</td>\n",
       "      <td>3.5</td>\n",
       "      <td>1504408070</td>\n",
       "      <td>The Great Houdini (1976)</td>\n",
       "      <td>Drama</td>\n",
       "    </tr>\n",
       "    <tr>\n",
       "      <th>27753441</th>\n",
       "      <td>283000</td>\n",
       "      <td>117857</td>\n",
       "      <td>3.5</td>\n",
       "      <td>1417317969</td>\n",
       "      <td>Hotline (2014)</td>\n",
       "      <td>Documentary</td>\n",
       "    </tr>\n",
       "    <tr>\n",
       "      <th>27753442</th>\n",
       "      <td>283000</td>\n",
       "      <td>133409</td>\n",
       "      <td>3.5</td>\n",
       "      <td>1431539331</td>\n",
       "      <td>Barnum! (1986)</td>\n",
       "      <td>(no genres listed)</td>\n",
       "    </tr>\n",
       "    <tr>\n",
       "      <th>27753443</th>\n",
       "      <td>283000</td>\n",
       "      <td>142855</td>\n",
       "      <td>3.5</td>\n",
       "      <td>1442889934</td>\n",
       "      <td>Paul Taylor Creative Domain (2014)</td>\n",
       "      <td>Documentary</td>\n",
       "    </tr>\n",
       "  </tbody>\n",
       "</table>\n",
       "<p>27753444 rows × 6 columns</p>\n",
       "</div>"
      ],
      "text/plain": [
       "          userId  movieId  rating   timestamp  \\\n",
       "0              1      307     3.5  1256677221   \n",
       "1              6      307     4.0   832059248   \n",
       "2             56      307     4.0  1383625728   \n",
       "3             71      307     5.0  1257795414   \n",
       "4             84      307     3.0   999055519   \n",
       "...          ...      ...     ...         ...   \n",
       "27753439  282403   167894     1.0  1524243885   \n",
       "27753440  282732   161572     3.5  1504408070   \n",
       "27753441  283000   117857     3.5  1417317969   \n",
       "27753442  283000   133409     3.5  1431539331   \n",
       "27753443  283000   142855     3.5  1442889934   \n",
       "\n",
       "                                                     title              genres  \n",
       "0         Three Colors: Blue (Trois couleurs: Bleu) (1993)               Drama  \n",
       "1         Three Colors: Blue (Trois couleurs: Bleu) (1993)               Drama  \n",
       "2         Three Colors: Blue (Trois couleurs: Bleu) (1993)               Drama  \n",
       "3         Three Colors: Blue (Trois couleurs: Bleu) (1993)               Drama  \n",
       "4         Three Colors: Blue (Trois couleurs: Bleu) (1993)               Drama  \n",
       "...                                                    ...                 ...  \n",
       "27753439                               Stranglehold (1994)              Action  \n",
       "27753440                          The Great Houdini (1976)               Drama  \n",
       "27753441                                    Hotline (2014)         Documentary  \n",
       "27753442                                    Barnum! (1986)  (no genres listed)  \n",
       "27753443                Paul Taylor Creative Domain (2014)         Documentary  \n",
       "\n",
       "[27753444 rows x 6 columns]"
      ]
     },
     "execution_count": 23,
     "metadata": {},
     "output_type": "execute_result"
    }
   ],
   "source": [
    "# can merge both dataframes by the shared column movieId\n",
    "\n",
    "df = pd.merge(df_ratings, df_movies, on='movieId')\n",
    "\n",
    "df"
   ]
  },
  {
   "cell_type": "code",
   "execution_count": 24,
   "metadata": {},
   "outputs": [
    {
     "data": {
      "text/plain": [
       "53889"
      ]
     },
     "execution_count": 24,
     "metadata": {},
     "output_type": "execute_result"
    }
   ],
   "source": [
    "len(df[\"movieId\"].unique())"
   ]
  },
  {
   "cell_type": "code",
   "execution_count": 25,
   "metadata": {},
   "outputs": [
    {
     "name": "stdout",
     "output_type": "stream",
     "text": [
      "<class 'pandas.core.frame.DataFrame'>\n",
      "Int64Index: 27753444 entries, 0 to 27753443\n",
      "Data columns (total 6 columns):\n",
      " #   Column     Non-Null Count     Dtype  \n",
      "---  ------     --------------     -----  \n",
      " 0   userId     27753444 non-null  int64  \n",
      " 1   movieId    27753444 non-null  int64  \n",
      " 2   rating     27753444 non-null  float64\n",
      " 3   timestamp  27753444 non-null  int64  \n",
      " 4   title      27753444 non-null  object \n",
      " 5   genres     27753444 non-null  object \n",
      "dtypes: float64(1), int64(3), object(2)\n",
      "memory usage: 1.4+ GB\n"
     ]
    }
   ],
   "source": [
    "df.info(show_counts = True) # no missing values"
   ]
  },
  {
   "cell_type": "code",
   "execution_count": 26,
   "metadata": {},
   "outputs": [
    {
     "data": {
      "text/plain": [
       "[0.5, 1.0, 1.5, 2.0, 2.5, 3.0, 3.5, 4.0, 4.5, 5.0]"
      ]
     },
     "execution_count": 26,
     "metadata": {},
     "output_type": "execute_result"
    }
   ],
   "source": [
    "sorted(df[\"rating\"].unique())"
   ]
  },
  {
   "cell_type": "code",
   "execution_count": 27,
   "metadata": {},
   "outputs": [
    {
     "data": {
      "text/plain": [
       "25152242    0.5\n",
       "26084402    0.5\n",
       "16960484    0.5\n",
       "16960519    0.5\n",
       "7108785     0.5\n",
       "           ... \n",
       "16833717    5.0\n",
       "11416495    5.0\n",
       "24518935    5.0\n",
       "3320662     5.0\n",
       "7210728     5.0\n",
       "Name: rating, Length: 27753444, dtype: float64"
      ]
     },
     "execution_count": 27,
     "metadata": {},
     "output_type": "execute_result"
    }
   ],
   "source": [
    "df[\"rating\"].sort_values()"
   ]
  },
  {
   "cell_type": "code",
   "execution_count": 28,
   "metadata": {},
   "outputs": [
    {
     "data": {
      "text/html": [
       "<div>\n",
       "<style scoped>\n",
       "    .dataframe tbody tr th:only-of-type {\n",
       "        vertical-align: middle;\n",
       "    }\n",
       "\n",
       "    .dataframe tbody tr th {\n",
       "        vertical-align: top;\n",
       "    }\n",
       "\n",
       "    .dataframe thead th {\n",
       "        text-align: right;\n",
       "    }\n",
       "</style>\n",
       "<table border=\"1\" class=\"dataframe\">\n",
       "  <thead>\n",
       "    <tr style=\"text-align: right;\">\n",
       "      <th></th>\n",
       "      <th>userId</th>\n",
       "      <th>movieId</th>\n",
       "      <th>rating</th>\n",
       "      <th>timestamp</th>\n",
       "    </tr>\n",
       "  </thead>\n",
       "  <tbody>\n",
       "    <tr>\n",
       "      <th>count</th>\n",
       "      <td>2.775344e+07</td>\n",
       "      <td>2.775344e+07</td>\n",
       "      <td>2.775344e+07</td>\n",
       "      <td>2.775344e+07</td>\n",
       "    </tr>\n",
       "    <tr>\n",
       "      <th>mean</th>\n",
       "      <td>1.419420e+05</td>\n",
       "      <td>1.848800e+04</td>\n",
       "      <td>3.530445e+00</td>\n",
       "      <td>1.193122e+09</td>\n",
       "    </tr>\n",
       "    <tr>\n",
       "      <th>std</th>\n",
       "      <td>8.170740e+04</td>\n",
       "      <td>3.510263e+04</td>\n",
       "      <td>1.066353e+00</td>\n",
       "      <td>2.160482e+08</td>\n",
       "    </tr>\n",
       "    <tr>\n",
       "      <th>min</th>\n",
       "      <td>1.000000e+00</td>\n",
       "      <td>1.000000e+00</td>\n",
       "      <td>5.000000e-01</td>\n",
       "      <td>7.896520e+08</td>\n",
       "    </tr>\n",
       "    <tr>\n",
       "      <th>25%</th>\n",
       "      <td>7.117600e+04</td>\n",
       "      <td>1.097000e+03</td>\n",
       "      <td>3.000000e+00</td>\n",
       "      <td>9.986053e+08</td>\n",
       "    </tr>\n",
       "    <tr>\n",
       "      <th>50%</th>\n",
       "      <td>1.420220e+05</td>\n",
       "      <td>2.716000e+03</td>\n",
       "      <td>3.500000e+00</td>\n",
       "      <td>1.174256e+09</td>\n",
       "    </tr>\n",
       "    <tr>\n",
       "      <th>75%</th>\n",
       "      <td>2.124590e+05</td>\n",
       "      <td>7.150000e+03</td>\n",
       "      <td>4.000000e+00</td>\n",
       "      <td>1.422744e+09</td>\n",
       "    </tr>\n",
       "    <tr>\n",
       "      <th>max</th>\n",
       "      <td>2.832280e+05</td>\n",
       "      <td>1.938860e+05</td>\n",
       "      <td>5.000000e+00</td>\n",
       "      <td>1.537945e+09</td>\n",
       "    </tr>\n",
       "  </tbody>\n",
       "</table>\n",
       "</div>"
      ],
      "text/plain": [
       "             userId       movieId        rating     timestamp\n",
       "count  2.775344e+07  2.775344e+07  2.775344e+07  2.775344e+07\n",
       "mean   1.419420e+05  1.848800e+04  3.530445e+00  1.193122e+09\n",
       "std    8.170740e+04  3.510263e+04  1.066353e+00  2.160482e+08\n",
       "min    1.000000e+00  1.000000e+00  5.000000e-01  7.896520e+08\n",
       "25%    7.117600e+04  1.097000e+03  3.000000e+00  9.986053e+08\n",
       "50%    1.420220e+05  2.716000e+03  3.500000e+00  1.174256e+09\n",
       "75%    2.124590e+05  7.150000e+03  4.000000e+00  1.422744e+09\n",
       "max    2.832280e+05  1.938860e+05  5.000000e+00  1.537945e+09"
      ]
     },
     "execution_count": 28,
     "metadata": {},
     "output_type": "execute_result"
    }
   ],
   "source": [
    "df.describe()"
   ]
  },
  {
   "attachments": {},
   "cell_type": "markdown",
   "metadata": {},
   "source": [
    "TODO: this will be moved to the actual recommendation system later"
   ]
  },
  {
   "attachments": {},
   "cell_type": "markdown",
   "metadata": {},
   "source": [
    "# Find user's most watched genre"
   ]
  },
  {
   "cell_type": "code",
   "execution_count": 29,
   "metadata": {},
   "outputs": [],
   "source": [
    "def extract_genres(df):\n",
    "    genre_counts = {}\n",
    "\n",
    "    # iterate over the selected rows\n",
    "    for genres in df['genres']:\n",
    "        # split the genres string into a list of individual genre strings\n",
    "        genre_list = genres.split('|')\n",
    "        # iterate over the genre strings\n",
    "        for genre in genre_list:\n",
    "            # check if the genre is already in the dictionary\n",
    "            if genre in genre_counts:\n",
    "                # if so, increment its count\n",
    "                genre_counts[genre] += 1\n",
    "            else:\n",
    "                # if not, add it to the dictionary with a count of 1\n",
    "                genre_counts[genre] = 1\n",
    "    return genre_counts"
   ]
  },
  {
   "cell_type": "code",
   "execution_count": 30,
   "metadata": {},
   "outputs": [],
   "source": [
    "def generate(df, userId, threshold, results):\n",
    "    # pick out movies user has watched with a rating over threshold\n",
    "    selected_df = df[(df['userId'] == userId) & (df['rating'] > threshold)]\n",
    "\n",
    "    genre_counts = extract_genres(selected_df)\n",
    "\n",
    "    sorted_dict = dict(sorted(genre_counts.items(), key=lambda x: x[1], reverse = True))\n",
    "    \n",
    "    top = dict(list(sorted_dict.items())[:results])\n",
    "    return top"
   ]
  },
  {
   "cell_type": "code",
   "execution_count": 31,
   "metadata": {},
   "outputs": [
    {
     "data": {
      "text/plain": [
       "{'Action': 248, 'Thriller': 201, 'Drama': 179, 'Adventure': 145}"
      ]
     },
     "execution_count": 31,
     "metadata": {},
     "output_type": "execute_result"
    }
   ],
   "source": [
    "user = 4 # userId\n",
    "lowest_rating = 3 # only take into account movies with a rating above this value\n",
    "top = 4 # amount of top genres to return\n",
    "\n",
    "generate(df, user, lowest_rating, top)"
   ]
  },
  {
   "cell_type": "code",
   "execution_count": 32,
   "metadata": {},
   "outputs": [
    {
     "data": {
      "text/html": [
       "<div>\n",
       "<style scoped>\n",
       "    .dataframe tbody tr th:only-of-type {\n",
       "        vertical-align: middle;\n",
       "    }\n",
       "\n",
       "    .dataframe tbody tr th {\n",
       "        vertical-align: top;\n",
       "    }\n",
       "\n",
       "    .dataframe thead th {\n",
       "        text-align: right;\n",
       "    }\n",
       "</style>\n",
       "<table border=\"1\" class=\"dataframe\">\n",
       "  <thead>\n",
       "    <tr style=\"text-align: right;\">\n",
       "      <th></th>\n",
       "      <th>userId</th>\n",
       "      <th>movieId</th>\n",
       "      <th>rating</th>\n",
       "      <th>timestamp</th>\n",
       "      <th>title</th>\n",
       "      <th>genres</th>\n",
       "    </tr>\n",
       "  </thead>\n",
       "  <tbody>\n",
       "    <tr>\n",
       "      <th>7958</th>\n",
       "      <td>1</td>\n",
       "      <td>481</td>\n",
       "      <td>3.5</td>\n",
       "      <td>1256677456</td>\n",
       "      <td>Kalifornia (1993)</td>\n",
       "      <td>Drama|Thriller</td>\n",
       "    </tr>\n",
       "    <tr>\n",
       "      <th>7959</th>\n",
       "      <td>4</td>\n",
       "      <td>481</td>\n",
       "      <td>4.0</td>\n",
       "      <td>1204592835</td>\n",
       "      <td>Kalifornia (1993)</td>\n",
       "      <td>Drama|Thriller</td>\n",
       "    </tr>\n",
       "    <tr>\n",
       "      <th>7960</th>\n",
       "      <td>19</td>\n",
       "      <td>481</td>\n",
       "      <td>3.0</td>\n",
       "      <td>836845062</td>\n",
       "      <td>Kalifornia (1993)</td>\n",
       "      <td>Drama|Thriller</td>\n",
       "    </tr>\n",
       "    <tr>\n",
       "      <th>7961</th>\n",
       "      <td>38</td>\n",
       "      <td>481</td>\n",
       "      <td>1.0</td>\n",
       "      <td>982855311</td>\n",
       "      <td>Kalifornia (1993)</td>\n",
       "      <td>Drama|Thriller</td>\n",
       "    </tr>\n",
       "    <tr>\n",
       "      <th>7962</th>\n",
       "      <td>114</td>\n",
       "      <td>481</td>\n",
       "      <td>3.0</td>\n",
       "      <td>973440263</td>\n",
       "      <td>Kalifornia (1993)</td>\n",
       "      <td>Drama|Thriller</td>\n",
       "    </tr>\n",
       "    <tr>\n",
       "      <th>...</th>\n",
       "      <td>...</td>\n",
       "      <td>...</td>\n",
       "      <td>...</td>\n",
       "      <td>...</td>\n",
       "      <td>...</td>\n",
       "      <td>...</td>\n",
       "    </tr>\n",
       "    <tr>\n",
       "      <th>27753419</th>\n",
       "      <td>282119</td>\n",
       "      <td>101483</td>\n",
       "      <td>3.5</td>\n",
       "      <td>1364434056</td>\n",
       "      <td>Likeable Mister R, The (Simpaticul domn R) (1969)</td>\n",
       "      <td>Action|Crime|Thriller</td>\n",
       "    </tr>\n",
       "    <tr>\n",
       "      <th>27753424</th>\n",
       "      <td>282119</td>\n",
       "      <td>173213</td>\n",
       "      <td>3.0</td>\n",
       "      <td>1495495609</td>\n",
       "      <td>The Goodbye Kiss (2006)</td>\n",
       "      <td>Crime|Drama|Thriller</td>\n",
       "    </tr>\n",
       "    <tr>\n",
       "      <th>27753428</th>\n",
       "      <td>282119</td>\n",
       "      <td>177869</td>\n",
       "      <td>3.5</td>\n",
       "      <td>1515539588</td>\n",
       "      <td>Girls und Panzer Movie (2015)</td>\n",
       "      <td>Action|Animation|Comedy</td>\n",
       "    </tr>\n",
       "    <tr>\n",
       "      <th>27753431</th>\n",
       "      <td>282374</td>\n",
       "      <td>168674</td>\n",
       "      <td>1.5</td>\n",
       "      <td>1486168497</td>\n",
       "      <td>Amsterdam Heavy (2011)</td>\n",
       "      <td>Action</td>\n",
       "    </tr>\n",
       "    <tr>\n",
       "      <th>27753439</th>\n",
       "      <td>282403</td>\n",
       "      <td>167894</td>\n",
       "      <td>1.0</td>\n",
       "      <td>1524243885</td>\n",
       "      <td>Stranglehold (1994)</td>\n",
       "      <td>Action</td>\n",
       "    </tr>\n",
       "  </tbody>\n",
       "</table>\n",
       "<p>12043735 rows × 6 columns</p>\n",
       "</div>"
      ],
      "text/plain": [
       "          userId  movieId  rating   timestamp  \\\n",
       "7958           1      481     3.5  1256677456   \n",
       "7959           4      481     4.0  1204592835   \n",
       "7960          19      481     3.0   836845062   \n",
       "7961          38      481     1.0   982855311   \n",
       "7962         114      481     3.0   973440263   \n",
       "...          ...      ...     ...         ...   \n",
       "27753419  282119   101483     3.5  1364434056   \n",
       "27753424  282119   173213     3.0  1495495609   \n",
       "27753428  282119   177869     3.5  1515539588   \n",
       "27753431  282374   168674     1.5  1486168497   \n",
       "27753439  282403   167894     1.0  1524243885   \n",
       "\n",
       "                                                      title  \\\n",
       "7958                                      Kalifornia (1993)   \n",
       "7959                                      Kalifornia (1993)   \n",
       "7960                                      Kalifornia (1993)   \n",
       "7961                                      Kalifornia (1993)   \n",
       "7962                                      Kalifornia (1993)   \n",
       "...                                                     ...   \n",
       "27753419  Likeable Mister R, The (Simpaticul domn R) (1969)   \n",
       "27753424                            The Goodbye Kiss (2006)   \n",
       "27753428                      Girls und Panzer Movie (2015)   \n",
       "27753431                             Amsterdam Heavy (2011)   \n",
       "27753439                                Stranglehold (1994)   \n",
       "\n",
       "                           genres  \n",
       "7958               Drama|Thriller  \n",
       "7959               Drama|Thriller  \n",
       "7960               Drama|Thriller  \n",
       "7961               Drama|Thriller  \n",
       "7962               Drama|Thriller  \n",
       "...                           ...  \n",
       "27753419    Action|Crime|Thriller  \n",
       "27753424     Crime|Drama|Thriller  \n",
       "27753428  Action|Animation|Comedy  \n",
       "27753431                   Action  \n",
       "27753439                   Action  \n",
       "\n",
       "[12043735 rows x 6 columns]"
      ]
     },
     "execution_count": 32,
     "metadata": {},
     "output_type": "execute_result"
    }
   ],
   "source": [
    "df[df[\"genres\"].str.contains(\"Action\") | df[\"genres\"].str.contains(\"Thriller\")]"
   ]
  },
  {
   "attachments": {},
   "cell_type": "markdown",
   "metadata": {},
   "source": [
    "---"
   ]
  },
  {
   "attachments": {},
   "cell_type": "markdown",
   "metadata": {},
   "source": [
    "TODO: these might go in a separate data cleaning file later:"
   ]
  },
  {
   "attachments": {},
   "cell_type": "markdown",
   "metadata": {},
   "source": [
    "# Drop users with less than N ratings"
   ]
  },
  {
   "cell_type": "code",
   "execution_count": 33,
   "metadata": {},
   "outputs": [],
   "source": [
    "def drop_users(df, min_ratings, max_ratings):\n",
    "    counts = df['userId'].value_counts()\n",
    "\n",
    "    # filter out users with less than min_ratings (less relevant due to not having many movie recommendations)\n",
    "    df_filtered = df[df[\"userId\"].isin(counts[counts >= min_ratings].index)]\n",
    "\n",
    "    # filter out users with more than max_ratings (outlier data)\n",
    "    # (also less relevant due to having too many movie recommendations, and high likelihood of spam bots)\n",
    "    df_filtered = df_filtered[df_filtered[\"userId\"].isin(counts[counts <= max_ratings].index)]\n",
    "\n",
    "    return df_filtered"
   ]
  },
  {
   "cell_type": "code",
   "execution_count": 34,
   "metadata": {},
   "outputs": [
    {
     "name": "stdout",
     "output_type": "stream",
     "text": [
      "Unique users of dataset reduced from 283,228 to 267,349 (a reduction of 15,879 users or 5.61%)\n",
      "\n",
      "Length of dataset reduced from 27,753,444 to 23,441,845 (a reduction of 4,311,599 rows or 15.54%)\n"
     ]
    }
   ],
   "source": [
    "df_filtered = drop_users(df, 4, 1000)\n",
    "\n",
    "original = len(df['userId'].unique())\n",
    "new = len(df_filtered['userId'].unique())\n",
    "\n",
    "print(f\"Unique users of dataset reduced from {original:,} to {new:,} (a reduction of {original - new:,} users or {(original - new) / original * 100:.2f}%)\\n\")\n",
    "\n",
    "original = len(df)\n",
    "new = len(df_filtered)\n",
    "\n",
    "print(f\"Length of dataset reduced from {original:,} to {new:,} (a reduction of {original - new:,} rows or {(original - new) / original * 100:.2f}%)\")"
   ]
  },
  {
   "cell_type": "code",
   "execution_count": 35,
   "metadata": {},
   "outputs": [
    {
     "data": {
      "text/plain": [
       "77054     1000\n",
       "88187     1000\n",
       "151764    1000\n",
       "268277    1000\n",
       "10355     1000\n",
       "          ... \n",
       "257011       4\n",
       "261569       4\n",
       "270783       4\n",
       "276520       4\n",
       "251924       4\n",
       "Name: userId, Length: 267349, dtype: int64"
      ]
     },
     "execution_count": 35,
     "metadata": {},
     "output_type": "execute_result"
    }
   ],
   "source": [
    "df_filtered[\"userId\"].value_counts() # only users with between 1000 and 4 ratings left in dataset"
   ]
  },
  {
   "attachments": {},
   "cell_type": "markdown",
   "metadata": {},
   "source": [
    "# Dropping users with a low average rating"
   ]
  },
  {
   "cell_type": "code",
   "execution_count": 36,
   "metadata": {},
   "outputs": [],
   "source": [
    "def drop_low_average(df, min_average):\n",
    "\n",
    "    # Get the mean rating for each user\n",
    "    user_mean_ratings = df.groupby('userId')['rating'].mean()\n",
    "\n",
    "    # Get the userIds with mean rating above N\n",
    "    user_ids_to_keep = user_mean_ratings[user_mean_ratings >= min_average].index\n",
    "\n",
    "    # Filter the DataFrame to keep only the desired userIds\n",
    "    df_filtered = df[df['userId'].isin(user_ids_to_keep)]\n",
    "\n",
    "    return df_filtered"
   ]
  },
  {
   "cell_type": "code",
   "execution_count": 37,
   "metadata": {},
   "outputs": [
    {
     "name": "stdout",
     "output_type": "stream",
     "text": [
      "Unique users of dataset reduced from 283,228 to 280,069 (a reduction of 3,159 users or 1.12%)\n",
      "\n",
      "Length of dataset reduced from 27,753,444 to 27,588,915 (a reduction of 164,529 rows or 0.59%)\n"
     ]
    }
   ],
   "source": [
    "df_filtered = drop_low_average(df, 2)\n",
    "\n",
    "original = len(df['userId'].unique())\n",
    "new = len(df_filtered['userId'].unique())\n",
    "\n",
    "print(f\"Unique users of dataset reduced from {original:,} to {new:,} (a reduction of {original - new:,} users or {(original - new) / original * 100:.2f}%)\\n\")\n",
    "\n",
    "original = len(df)\n",
    "new = len(df_filtered)\n",
    "\n",
    "print(f\"Length of dataset reduced from {original:,} to {new:,} (a reduction of {original - new:,} rows or {(original - new) / original * 100:.2f}%)\")"
   ]
  },
  {
   "attachments": {},
   "cell_type": "markdown",
   "metadata": {},
   "source": [
    "# Removing rows with low scores"
   ]
  },
  {
   "cell_type": "code",
   "execution_count": 38,
   "metadata": {},
   "outputs": [],
   "source": [
    "def drop_ratings(df, min_rating):\n",
    "\n",
    "    # removing scores of less than min_rating (not relevant to recommend to anyone)\n",
    "    df_filtered = df.loc[df['rating'] >= min_rating]\n",
    "\n",
    "    return df_filtered"
   ]
  },
  {
   "cell_type": "code",
   "execution_count": 39,
   "metadata": {},
   "outputs": [
    {
     "name": "stdout",
     "output_type": "stream",
     "text": [
      "Unique users of dataset reduced from 283,228 to 282,009 (a reduction of 1,219 users or 0.43%)\n",
      "\n",
      "Length of dataset reduced from 27,753,444 to 24,132,842 (a reduction of 3,620,602 rows or 13.05%)\n"
     ]
    }
   ],
   "source": [
    "df_filtered = drop_ratings(df, 2.5)\n",
    "\n",
    "original = len(df['userId'].unique())\n",
    "new = len(df_filtered['userId'].unique())\n",
    "\n",
    "print(f\"Unique users of dataset reduced from {original:,} to {new:,} (a reduction of {original - new:,} users or {(original - new) / original * 100:.2f}%)\\n\")\n",
    "\n",
    "original = len(df)\n",
    "new = len(df_filtered)\n",
    "\n",
    "print(f\"Length of dataset reduced from {original:,} to {new:,} (a reduction of {original - new:,} rows or {(original - new) / original * 100:.2f}%)\")"
   ]
  },
  {
   "attachments": {},
   "cell_type": "markdown",
   "metadata": {},
   "source": [
    "# Dropping all at once"
   ]
  },
  {
   "cell_type": "code",
   "execution_count": 40,
   "metadata": {},
   "outputs": [
    {
     "data": {
      "text/html": [
       "<div>\n",
       "<style scoped>\n",
       "    .dataframe tbody tr th:only-of-type {\n",
       "        vertical-align: middle;\n",
       "    }\n",
       "\n",
       "    .dataframe tbody tr th {\n",
       "        vertical-align: top;\n",
       "    }\n",
       "\n",
       "    .dataframe thead th {\n",
       "        text-align: right;\n",
       "    }\n",
       "</style>\n",
       "<table border=\"1\" class=\"dataframe\">\n",
       "  <thead>\n",
       "    <tr style=\"text-align: right;\">\n",
       "      <th></th>\n",
       "      <th>userId</th>\n",
       "      <th>movieId</th>\n",
       "      <th>rating</th>\n",
       "      <th>timestamp</th>\n",
       "      <th>title</th>\n",
       "      <th>genres</th>\n",
       "    </tr>\n",
       "  </thead>\n",
       "  <tbody>\n",
       "    <tr>\n",
       "      <th>0</th>\n",
       "      <td>1</td>\n",
       "      <td>307</td>\n",
       "      <td>3.5</td>\n",
       "      <td>1256677221</td>\n",
       "      <td>Three Colors: Blue (Trois couleurs: Bleu) (1993)</td>\n",
       "      <td>Drama</td>\n",
       "    </tr>\n",
       "    <tr>\n",
       "      <th>1</th>\n",
       "      <td>6</td>\n",
       "      <td>307</td>\n",
       "      <td>4.0</td>\n",
       "      <td>832059248</td>\n",
       "      <td>Three Colors: Blue (Trois couleurs: Bleu) (1993)</td>\n",
       "      <td>Drama</td>\n",
       "    </tr>\n",
       "    <tr>\n",
       "      <th>2</th>\n",
       "      <td>56</td>\n",
       "      <td>307</td>\n",
       "      <td>4.0</td>\n",
       "      <td>1383625728</td>\n",
       "      <td>Three Colors: Blue (Trois couleurs: Bleu) (1993)</td>\n",
       "      <td>Drama</td>\n",
       "    </tr>\n",
       "    <tr>\n",
       "      <th>3</th>\n",
       "      <td>71</td>\n",
       "      <td>307</td>\n",
       "      <td>5.0</td>\n",
       "      <td>1257795414</td>\n",
       "      <td>Three Colors: Blue (Trois couleurs: Bleu) (1993)</td>\n",
       "      <td>Drama</td>\n",
       "    </tr>\n",
       "    <tr>\n",
       "      <th>4</th>\n",
       "      <td>84</td>\n",
       "      <td>307</td>\n",
       "      <td>3.0</td>\n",
       "      <td>999055519</td>\n",
       "      <td>Three Colors: Blue (Trois couleurs: Bleu) (1993)</td>\n",
       "      <td>Drama</td>\n",
       "    </tr>\n",
       "    <tr>\n",
       "      <th>...</th>\n",
       "      <td>...</td>\n",
       "      <td>...</td>\n",
       "      <td>...</td>\n",
       "      <td>...</td>\n",
       "      <td>...</td>\n",
       "      <td>...</td>\n",
       "    </tr>\n",
       "    <tr>\n",
       "      <th>27753413</th>\n",
       "      <td>281447</td>\n",
       "      <td>193805</td>\n",
       "      <td>2.5</td>\n",
       "      <td>1537645510</td>\n",
       "      <td>95 (2017)</td>\n",
       "      <td>Comedy|Drama</td>\n",
       "    </tr>\n",
       "    <tr>\n",
       "      <th>27753415</th>\n",
       "      <td>281983</td>\n",
       "      <td>159618</td>\n",
       "      <td>4.0</td>\n",
       "      <td>1464570010</td>\n",
       "      <td>Snake Dancer (1976)</td>\n",
       "      <td>Drama</td>\n",
       "    </tr>\n",
       "    <tr>\n",
       "      <th>27753416</th>\n",
       "      <td>281983</td>\n",
       "      <td>159620</td>\n",
       "      <td>3.5</td>\n",
       "      <td>1464574286</td>\n",
       "      <td>Angel of Destruction (1994)</td>\n",
       "      <td>Action|Adventure|Thriller</td>\n",
       "    </tr>\n",
       "    <tr>\n",
       "      <th>27753417</th>\n",
       "      <td>281983</td>\n",
       "      <td>159660</td>\n",
       "      <td>3.0</td>\n",
       "      <td>1464710418</td>\n",
       "      <td>One Girl's Confession (1953)</td>\n",
       "      <td>Drama</td>\n",
       "    </tr>\n",
       "    <tr>\n",
       "      <th>27753440</th>\n",
       "      <td>282732</td>\n",
       "      <td>161572</td>\n",
       "      <td>3.5</td>\n",
       "      <td>1504408070</td>\n",
       "      <td>The Great Houdini (1976)</td>\n",
       "      <td>Drama</td>\n",
       "    </tr>\n",
       "  </tbody>\n",
       "</table>\n",
       "<p>20549358 rows × 6 columns</p>\n",
       "</div>"
      ],
      "text/plain": [
       "          userId  movieId  rating   timestamp  \\\n",
       "0              1      307     3.5  1256677221   \n",
       "1              6      307     4.0   832059248   \n",
       "2             56      307     4.0  1383625728   \n",
       "3             71      307     5.0  1257795414   \n",
       "4             84      307     3.0   999055519   \n",
       "...          ...      ...     ...         ...   \n",
       "27753413  281447   193805     2.5  1537645510   \n",
       "27753415  281983   159618     4.0  1464570010   \n",
       "27753416  281983   159620     3.5  1464574286   \n",
       "27753417  281983   159660     3.0  1464710418   \n",
       "27753440  282732   161572     3.5  1504408070   \n",
       "\n",
       "                                                     title  \\\n",
       "0         Three Colors: Blue (Trois couleurs: Bleu) (1993)   \n",
       "1         Three Colors: Blue (Trois couleurs: Bleu) (1993)   \n",
       "2         Three Colors: Blue (Trois couleurs: Bleu) (1993)   \n",
       "3         Three Colors: Blue (Trois couleurs: Bleu) (1993)   \n",
       "4         Three Colors: Blue (Trois couleurs: Bleu) (1993)   \n",
       "...                                                    ...   \n",
       "27753413                                         95 (2017)   \n",
       "27753415                               Snake Dancer (1976)   \n",
       "27753416                       Angel of Destruction (1994)   \n",
       "27753417                      One Girl's Confession (1953)   \n",
       "27753440                          The Great Houdini (1976)   \n",
       "\n",
       "                             genres  \n",
       "0                             Drama  \n",
       "1                             Drama  \n",
       "2                             Drama  \n",
       "3                             Drama  \n",
       "4                             Drama  \n",
       "...                             ...  \n",
       "27753413               Comedy|Drama  \n",
       "27753415                      Drama  \n",
       "27753416  Action|Adventure|Thriller  \n",
       "27753417                      Drama  \n",
       "27753440                      Drama  \n",
       "\n",
       "[20549358 rows x 6 columns]"
      ]
     },
     "execution_count": 40,
     "metadata": {},
     "output_type": "execute_result"
    }
   ],
   "source": [
    "df_filtered = drop_users(df, 4, 1000)\n",
    "df_filtered = drop_low_average(df_filtered, 2)\n",
    "df_filtered = drop_ratings(df_filtered, 2.5)\n",
    "\n",
    "df_filtered"
   ]
  },
  {
   "cell_type": "code",
   "execution_count": 41,
   "metadata": {},
   "outputs": [
    {
     "name": "stdout",
     "output_type": "stream",
     "text": [
      "Length of dataset reduced from 27,753,444 to 20,549,358 (a reduction of 7,204,086 rows or 25.96%)\n"
     ]
    }
   ],
   "source": [
    "original = len(df)\n",
    "new = len(df_filtered)\n",
    "\n",
    "print(f\"Length of dataset reduced from {original:,} to {new:,} (a reduction of {original - new:,} rows or {(original - new) / original * 100:.2f}%)\")"
   ]
  },
  {
   "attachments": {},
   "cell_type": "markdown",
   "metadata": {},
   "source": [
    "# Way of manually looking at movies"
   ]
  },
  {
   "cell_type": "code",
   "execution_count": 42,
   "metadata": {},
   "outputs": [
    {
     "name": "stdout",
     "output_type": "stream",
     "text": [
      "The Fountain (1989)\n",
      "Rating: 3.5\n",
      "Occurrences = 4\n",
      "\n",
      "Three Coins in the Fountain (1954)\n",
      "Rating: 2.8\n",
      "Occurrences = 33\n",
      "\n",
      "The Fountain of Youth (1958)\n",
      "Rating: 3.7\n",
      "Occurrences = 3\n",
      "\n"
     ]
    }
   ],
   "source": [
    "title_substring = \"the fountain\"\n",
    "\n",
    "# filter out titles containing the string\n",
    "titles = df[df['title'].str.contains(title_substring, case = False)]['title'].unique().tolist()\n",
    "\n",
    "# print out information about each title matching the substring\n",
    "for title in titles:\n",
    "    print(f\"{title}\\nRating: {df[df['title'] == title]['rating'].mean():.1f}\\nOccurrences = {len(df[df['title'] == title]):,}\\n\")"
   ]
  },
  {
   "cell_type": "code",
   "execution_count": null,
   "metadata": {},
   "outputs": [],
   "source": []
  }
 ],
 "metadata": {
  "kernelspec": {
   "display_name": "Machine-Learning-GjBaTmq0",
   "language": "python",
   "name": "python3"
  },
  "language_info": {
   "codemirror_mode": {
    "name": "ipython",
    "version": 3
   },
   "file_extension": ".py",
   "mimetype": "text/x-python",
   "name": "python",
   "nbconvert_exporter": "python",
   "pygments_lexer": "ipython3",
   "version": "3.9.13"
  },
  "orig_nbformat": 4
 },
 "nbformat": 4,
 "nbformat_minor": 2
}
